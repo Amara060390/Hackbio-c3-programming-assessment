{
  "nbformat": 4,
  "nbformat_minor": 0,
  "metadata": {
    "colab": {
      "name": "Amarachukwu Programming Exam solutions.ipynb",
      "provenance": [],
      "collapsed_sections": []
    },
    "kernelspec": {
      "name": "python3",
      "display_name": "Python 3"
    },
    "language_info": {
      "name": "python"
    }
  },
  "cells": [
    {
      "cell_type": "code",
      "metadata": {
        "id": "yLWscKoIMjzI"
      },
      "source": [
        ""
      ],
      "execution_count": null,
      "outputs": []
    },
    {
      "cell_type": "code",
      "metadata": {
        "id": "gmR2RW-YNytC"
      },
      "source": [
        "# Write a function that reverse complements this sequence? (10mks) DNA= \"ATCGATCGATCAGATTTAAACGGCATATCATAGCACGTACATGACG\""
      ],
      "execution_count": 8,
      "outputs": []
    },
    {
      "cell_type": "code",
      "metadata": {
        "id": "6KoEU_jrROKf"
      },
      "source": [
        "def reverse_complement (DNA):\n",
        "  \"\"\" computes the reverse complement of the sequence.\"\"\"\n",
        "  complement =\"\"\n",
        "  for nucleotide in DNA:\n",
        "    if nucleotide == \"A\":\n",
        "      complement = \"T\" + complement\n",
        "      elif nucleotide == \"G\":\n",
        "        complement = \"C\" + complement\n",
        "        elif nucleotide == \"C\"\n",
        "          complement = \"G\" + complement\n",
        "         elif nucleotide == \"T\"\n",
        "           complement = \"A\" + complement\n",
        "      return complement\n",
        "      DNA= \"ATCGATCGATCAGATTTAAACGGCATATCATAGCACGTACATGACG\"     \n",
        "      reverse_complement(DNA)\n",
        " #Write a for loop that prints values 4-10 (2.5mks)\n",
        " for value in range(4, 11):\n",
        "      print(value)\n",
        " #Create a while loop that starts with x=0 and increments x until x is equal to 5, each iteration should print to console(2mks)\n",
        " x = 0        \n",
        " print(\"\")\n",
        " while X < 6:\n",
        "   print(x)\n",
        "   x = x+1\n",
        "#Using a DNA sequence read from file, answer the following questions (20mks)\n",
        "#a\n",
        " my_filename = open(\"SeqfromfileQA.fasta\", \"w+\")\n",
        " file_content = filename.read()\n",
        " print(file_content)\n",
        "\n",
        "#c \n",
        "DNA= (file_content)\n",
        "print('Numberof times ATG appears',DNA.find('ATG'))\n",
        "\n"
      ],
      "execution_count": null,
      "outputs": []
    },
    {
      "cell_type": "code",
      "metadata": {
        "id": "oXCN9eyZe2vb"
      },
      "source": [
        "#Bash script\n",
        "$ bash hello.sh\n",
        "echo hello\n",
        "varname=\"Brian\"\n",
        "echo \"Hello\" $varname, \"how are you?\"\n",
        "print(\"Hello\", Brian(\"How are you?\")) "
      ],
      "execution_count": null,
      "outputs": []
    },
    {
      "cell_type": "code",
      "metadata": {
        "id": "JWQfjarW0sOX"
      },
      "source": [
        "#Question 6"
      ],
      "execution_count": null,
      "outputs": []
    },
    {
      "cell_type": "code",
      "metadata": {
        "colab": {
          "base_uri": "https://localhost:8080/"
        },
        "id": "jH42b5WxuTG6",
        "outputId": "c5e64bf2-33a2-4401-9631-1ce649f5643c"
      },
      "source": [
        "my_filename = open(\"sequence1.fasta\")\n",
        "# read contents\n",
        "my_sequence1 = my_filename.read()\n",
        "# calculate string length\n",
        "sequence1_length = len(my_sequence1)\n",
        "# print\n",
        "print(\"sequence1.fasta:\"+ str(sequence1_length))"
      ],
      "execution_count": 1,
      "outputs": [
        {
          "output_type": "stream",
          "text": [
            "sequence1.fasta:3435\n"
          ],
          "name": "stdout"
        }
      ]
    },
    {
      "cell_type": "code",
      "metadata": {
        "colab": {
          "base_uri": "https://localhost:8080/"
        },
        "id": "rKsVCzWqv68l",
        "outputId": "7a4a5b6d-d53f-42eb-edcf-b7b8fae44c1e"
      },
      "source": [
        "my_filename = open(\"sequence_2.fasta\")\n",
        "#read contents\n",
        "my_sequence2 = my_filename.read()\n",
        "#calculate string length\n",
        "sequence2_length = len(my_sequence2)\n",
        "# print\n",
        "print(\"sequence_2.fasta:\" +str(sequence2_length))"
      ],
      "execution_count": 4,
      "outputs": [
        {
          "output_type": "stream",
          "text": [
            "sequence_2.fasta:4386\n"
          ],
          "name": "stdout"
        }
      ]
    },
    {
      "cell_type": "code",
      "metadata": {
        "colab": {
          "base_uri": "https://localhost:8080/"
        },
        "id": "W6BnoJO8xO-T",
        "outputId": "97202e07-e16a-4976-9a3f-d75b941a7eb0"
      },
      "source": [
        "my_filename = open(\"sequence_3.fasta\")\n",
        "#read contents\n",
        "my_sequence3 = my_filename.read()\n",
        "# calculate string length\n",
        "sequence3_length = len(my_sequence3)\n",
        "#print\n",
        "print(\"sequence_3.fasta:\" +str(sequence3_length))"
      ],
      "execution_count": 9,
      "outputs": [
        {
          "output_type": "stream",
          "text": [
            "sequence_3.fasta:36005\n"
          ],
          "name": "stdout"
        }
      ]
    },
    {
      "cell_type": "code",
      "metadata": {
        "colab": {
          "base_uri": "https://localhost:8080/"
        },
        "id": "B1pU8IoJy__b",
        "outputId": "c29a13ee-dad2-4826-bcec-c735b7280892"
      },
      "source": [
        "my_filename =open(\"SeqfromfileQ4.fasta\")\n",
        "# read contents\n",
        "my_sequenceQ4 = my_filename.read()\n",
        "# calculate string length\n",
        "sequenceQ4_length = len(my_sequenceQ4)\n",
        "#print\n",
        "print(\"SeqfromfileQ4.fasta:\" +str(sequenceQ4_length))\n"
      ],
      "execution_count": 10,
      "outputs": [
        {
          "output_type": "stream",
          "text": [
            "SeqfromfileQ4.fasta:5927\n"
          ],
          "name": "stdout"
        }
      ]
    },
    {
      "cell_type": "code",
      "metadata": {
        "id": "bY3-8nwe8qwi"
      },
      "source": [
        "#Question7"
      ],
      "execution_count": null,
      "outputs": []
    },
    {
      "cell_type": "code",
      "metadata": {
        "id": "Sm0CEIkVy1te"
      },
      "source": [
        "\n",
        "my_filename_header = open(\"all_sequence_headers.txt\", \"w\")\n",
        "line_header =[]\n",
        "with open(\"SeqfromfileQ4.fasta\") as my_filename_h1:\n",
        "  for line in my_filename_h1.readlines():\n",
        "    if line.startswith(\">\"):\n",
        "      line.strip\n",
        "      line_header.append(str(line))\n",
        "      continue\n",
        "      str_h =\"\"\n",
        "      for item in line_header:\n",
        "        str_h += item\n",
        "        print(str_h)\n",
        "        my_filename_header.write(str_h)"
      ],
      "execution_count": 20,
      "outputs": []
    },
    {
      "cell_type": "code",
      "metadata": {
        "id": "HeLCHH1M8nmm"
      },
      "source": [
        "my_filename_header1 = open(\"all_sequence_headers.txt\", \"w\")\n",
        "line_header1 =[]\n",
        "with open(\"sequence1.fasta\") as my_filename_h2:\n",
        "  for line in my_filename_h2.readlines():\n",
        "    if line.startswith(\">\"):\n",
        "      line.strip\n",
        "      line_header1.append(str(line))\n",
        "      continue\n",
        "      str_h1 =\"\"\n",
        "      for item in line_header1:\n",
        "        str_h1 += item\n",
        "        print(str_h1)\n",
        "        my_filename_header1.write(str_h1)"
      ],
      "execution_count": 8,
      "outputs": []
    },
    {
      "cell_type": "code",
      "metadata": {
        "id": "TPUBI_JpzMYe"
      },
      "source": [
        "my_filename_header2 = open(\"all_sequence_headers.txt\",\"w\")\n",
        "line_header2 =[]\n",
        "with open(\"sequence_2.fasta\") as my_filename_h3:\n",
        "  for line in my_filename_h3.readlines():\n",
        "    if line.startswith(\">\"):\n",
        "      line.strip\n",
        "      line_header2.append(str(line))\n",
        "      continue\n",
        "      str_h2 =\"\"\n",
        "      for item in line_header2:\n",
        "        str_h2 += item\n",
        "        print(str_h2)\n",
        "        my_filename_header2.write(str_h2)"
      ],
      "execution_count": 11,
      "outputs": []
    },
    {
      "cell_type": "code",
      "metadata": {
        "id": "R9OZxrP51izi"
      },
      "source": [
        "my_filename_header3 = open(\"all_sequence_headers.txt\", \"w\")\n",
        "line_header3 =[]\n",
        "with open(\"sequence_3.fasta\") as my_filename_h4:\n",
        "  for line in my_filename_h3.readlines():\n",
        "    if line.startswith(\">\"):\n",
        "      line.strip\n",
        "      line_header3.append(str(line))\n",
        "      continue\n",
        "      str_h3 =\"\"\n",
        "      for item in line_header3:\n",
        "        str_h3 += item\n",
        "        print(str_h3)\n",
        "        my_filename_header3.write(str_h2)"
      ],
      "execution_count": null,
      "outputs": []
    }
  ]
}